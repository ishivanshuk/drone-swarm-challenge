{
 "cells": [
  {
   "cell_type": "code",
   "execution_count": 1,
   "metadata": {},
   "outputs": [
    {
     "name": "stdout",
     "output_type": "stream",
     "text": [
      "Requirement already satisfied: tk in c:\\users\\shivanshu\\appdata\\local\\programs\\python\\python310\\lib\\site-packages (0.1.0)\n"
     ]
    },
    {
     "name": "stderr",
     "output_type": "stream",
     "text": [
      "\n",
      "[notice] A new release of pip available: 22.3 -> 23.0.1\n",
      "[notice] To update, run: python.exe -m pip install --upgrade pip\n"
     ]
    },
    {
     "name": "stdout",
     "output_type": "stream",
     "text": [
      "Requirement already satisfied: PyScreenshot in c:\\users\\shivanshu\\appdata\\local\\programs\\python\\python310\\lib\\site-packages (3.1)\n",
      "Requirement already satisfied: EasyProcess in c:\\users\\shivanshu\\appdata\\local\\programs\\python\\python310\\lib\\site-packages (from PyScreenshot) (1.1)\n",
      "Requirement already satisfied: mss in c:\\users\\shivanshu\\appdata\\local\\programs\\python\\python310\\lib\\site-packages (from PyScreenshot) (8.0.2)\n",
      "Requirement already satisfied: entrypoint2 in c:\\users\\shivanshu\\appdata\\local\\programs\\python\\python310\\lib\\site-packages (from PyScreenshot) (1.1)\n"
     ]
    },
    {
     "name": "stderr",
     "output_type": "stream",
     "text": [
      "\n",
      "[notice] A new release of pip available: 22.3 -> 23.0.1\n",
      "[notice] To update, run: python.exe -m pip install --upgrade pip\n"
     ]
    }
   ],
   "source": [
    "!pip install tk\n",
    "!pip install PyScreenshot\n"
   ]
  },
  {
   "cell_type": "code",
   "execution_count": 2,
   "metadata": {},
   "outputs": [],
   "source": [
    "from tkinter import *\n",
    "from tkinter.ttk import Scale\n",
    "from tkinter import colorchooser,filedialog,messagebox\n",
    "import pyscreenshot as ImageGrab\n",
    "import cv2 as cv\n",
    "import numpy as np\n",
    "import matplotlib.pyplot as plt\n",
    "\n",
    "#import PIL.ImageGrab as ImageGrab\n",
    "ndrones = None"
   ]
  },
  {
   "cell_type": "code",
   "execution_count": 128,
   "metadata": {},
   "outputs": [],
   "source": [
    "class Draw():\n",
    "    def __init__(self,root):\n",
    "        self.old_x = None\n",
    "        self.old_y = None\n",
    "#Defining title and Size of the Tkinter Window GUI\n",
    "        self.root =root\n",
    "        self.root.title(\"Pattern for swarm\")\n",
    "        self.root.geometry(\"1000x400\")\n",
    "        self.root.configure(background=\"white\")\n",
    "        self.root.resizable(0,0)\n",
    " \n",
    "#variables for pointer and Eraser   \n",
    "        self.pointer= \"black\"\n",
    "        self.erase=\"white\"\n",
    "\n",
    "#Widgets for Tkinter Window\n",
    "       \n",
    "# Configure the alignment , font size and color of the text\n",
    "        text=Text(root)\n",
    "        text.tag_configure(\"tag_name\", justify='center', font=('calibri',25),background='#292826',foreground='white')\n",
    "\n",
    "# Insert a Text\n",
    "        text.insert(\"1.0\", \"Draw drone pattern\")\n",
    "\n",
    "# Add the tag for following given text\n",
    "        text.tag_add(\"tag_name\", \"1.0\", \"end\")\n",
    "        text.pack()\n",
    "\n",
    "\n",
    "# enter text\n",
    "\n",
    "        self.ndroness = Entry(root)\n",
    "        self.ndroness.pack(pady=30)\n",
    "        self.ndroness.place(relx = 0.5,rely=0.95, anchor=CENTER)\n",
    "        \n",
    "# Draw button\n",
    "        self.drawbtn= Button(self.root,text=\"Draw\",bd=4,bg='white',command=self.cpaint,width=9,relief=RIDGE)\n",
    "        self.drawbtn.place(relx = 0.20,rely=0.95, anchor=CENTER)       \n",
    "        \n",
    "  #exit button      \n",
    "        self.exit_button = Button(self.root, text=\"Exit and Save Coordinates\", bd=4, bg='white',command=root.destroy,relief=RIDGE)\n",
    "        self.exit_button.place(relx = 0.85,rely=0.95, anchor=CENTER)       \n",
    "        \n",
    " # Erase Button and its properties   \n",
    "        self.eraser_btn= Button(self.root,text=\"Eraser\",bd=4,bg='white',command=self.eraser,width=9,relief=RIDGE)\n",
    "        self.eraser_btn.place(relx = 0.35,rely=0.95, anchor=CENTER)\n",
    "\n",
    "# Reset Button to clear the entire screen \n",
    "        self.clear_screen= Button(self.root,text=\"Clear Screen\",bd=4,bg='white',command= self.clear,width=9,relief=RIDGE)\n",
    "        self.clear_screen.place(relx = 0.70,rely=0.95, anchor=CENTER)\n",
    "\n",
    "# Save Button for saving the image in local computer\n",
    "        self.savendrones_btn= Button(self.root,text=\"Save number of drones\",bd=4,bg='white',command=self.save_drawing, relief=RIDGE)\n",
    "        self.savendrones_btn.place(relx = 0.55,rely=0.95, anchor=CENTER)\n",
    "\n",
    "\n",
    "#Defining a background color for the Canvas \n",
    "        self.background = Canvas(self.root,bg='white',bd=5,relief=GROOVE,height=300,width=600)\n",
    "        self.background.place(relx = 0.5, rely = 0.5, anchor=CENTER)\n",
    "\n",
    "\n",
    "#Bind the background Canvas with mouse click\n",
    "        self.background.bind(\"<B1-Motion>\",self.paint) \n",
    "\n",
    "\n",
    "# Functions are defined here\n",
    "\n",
    "# Paint Function for Drawing the lines on Canvas\n",
    "    def paint(self,event):       \n",
    "        x2,y2 = (event.x), (event.y)  \n",
    "        if self.old_x and self.old_y:\n",
    "             self.background.create_line(x2-1,y2-1,x2,y2,fill=self.pointer,capstyle=ROUND,smooth='true',width=5)\n",
    "             xcoords.append(1000-x2)\n",
    "             ycoords.append(400-y2)\n",
    "        self.old_x = x2\n",
    "        self.old_y = y2\n",
    "\n",
    "# Function for defining the eraser\n",
    "    def eraser(self):\n",
    "        self.pointer= self.erase\n",
    "        self.old_x = None\n",
    "        self.old_y = None\n",
    "    \n",
    "    def cpaint(self):\n",
    "        self.pointer= 'black'\n",
    "        self.old_x = None\n",
    "        self.old_y = None\n",
    "    \n",
    "    def clear(self):\n",
    "        self.background.delete('all')\n",
    "        xcoords = []\n",
    "        ycoords= []\n",
    "\n",
    "# Function for saving the image file in Local Computer\n",
    "    def save_drawing(self):\n",
    "        global ndrones\n",
    "        try:\n",
    "            ndrones = self.ndroness.get()\n",
    "            print(ndrones)\n",
    "        except:\n",
    "            print(\"Error in saving the screenshot\")\n",
    "            \n"
   ]
  },
  {
   "cell_type": "code",
   "execution_count": 130,
   "metadata": {},
   "outputs": [],
   "source": [
    "xcoords=[]\n",
    "ycoords=[]\n",
    "\n",
    "if __name__ ==\"__main__\":\n",
    "    root = Tk()\n",
    "    p= Draw(root)\n",
    "    root.mainloop()"
   ]
  },
  {
   "cell_type": "code",
   "execution_count": 104,
   "metadata": {},
   "outputs": [],
   "source": [
    "ndrones = int(ndrones)"
   ]
  },
  {
   "cell_type": "code",
   "execution_count": 105,
   "metadata": {},
   "outputs": [],
   "source": [
    "points = np.column_stack( (xcoords, ycoords) )"
   ]
  },
  {
   "cell_type": "code",
   "execution_count": 106,
   "metadata": {
    "scrolled": true
   },
   "outputs": [
    {
     "data": {
      "text/plain": [
       "(85, 2)"
      ]
     },
     "execution_count": 106,
     "metadata": {},
     "output_type": "execute_result"
    }
   ],
   "source": [
    "points.shape"
   ]
  },
  {
   "cell_type": "code",
   "execution_count": 107,
   "metadata": {},
   "outputs": [],
   "source": [
    "mprev = None\n",
    "mcurr = None\n",
    "fx=[] \n",
    "fy=[]\n",
    "\n",
    "i=0\n",
    "k= int( len(points)/ndrones )\n",
    "while i<len(points):\n",
    "#     if i==0:\n",
    "#         continue\n",
    "#     if i==1:\n",
    "#         if points[i][0]-points[i-1][0]==0:\n",
    "#             mcurr =  (points[i][1]-points[i-1][1]) / 0.001\n",
    "#         else:\n",
    "#             mcurr = (points[i][1]-points[i-1][1]) / (points[i][0]-points[i-1][0])\n",
    "#     else:\n",
    "#         mprev = mcurr\n",
    "#         if points[i][0]-points[i-1][0]==0:\n",
    "#             mcurr =  (points[i][1]-points[i-1][1]) / 0.001\n",
    "#         else:\n",
    "#             mcurr = (points[i][1]-points[i-1][1]) / (points[i][0]-points[i-1][0])\n",
    "#         if mcurr-mprev > 1:\n",
    "#             fx.append( points[i][0] )\n",
    "#             fy.append( points[i][1] )\n",
    "    fx.append( points[i][0] )\n",
    "    fy.append( points[i][1] )\n",
    "    i = i+k"
   ]
  },
  {
   "cell_type": "code",
   "execution_count": 108,
   "metadata": {},
   "outputs": [],
   "source": [
    "def perimeter(x,y):\n",
    "    n=len(x)\n",
    "    p=0\n",
    "    for i in range(1,n):\n",
    "        dx=x[i]-x[i-1]\n",
    "        dy=y[i]-y[i-1]\n",
    "        dp= np.sqrt(dx**2+dy**2)\n",
    "        p+=dp\n",
    "    return p"
   ]
  },
  {
   "cell_type": "code",
   "execution_count": 109,
   "metadata": {},
   "outputs": [],
   "source": [
    "def dist(a,b,c,d):\n",
    "    return np.sqrt((a-c)**2 + (b-d)**2)"
   ]
  },
  {
   "cell_type": "code",
   "execution_count": 110,
   "metadata": {},
   "outputs": [],
   "source": [
    "def slope(a,b,c,d):\n",
    "    dx=c-a\n",
    "    dy=d-b\n",
    "    theta=np.arctan2(dy,dx)\n",
    "    return theta"
   ]
  },
  {
   "cell_type": "code",
   "execution_count": 111,
   "metadata": {},
   "outputs": [
    {
     "data": {
      "text/plain": [
       "0.7853981633974483"
      ]
     },
     "execution_count": 111,
     "metadata": {},
     "output_type": "execute_result"
    }
   ],
   "source": [
    "theta=slope(0,0,1,1)\n",
    "theta"
   ]
  },
  {
   "cell_type": "code",
   "execution_count": 112,
   "metadata": {},
   "outputs": [
    {
     "data": {
      "text/plain": [
       "376.8459088424547"
      ]
     },
     "execution_count": 112,
     "metadata": {},
     "output_type": "execute_result"
    }
   ],
   "source": [
    "x,y =points[:,0], points[:,1]\n",
    "p=perimeter(x,y)\n",
    "p"
   ]
  },
  {
   "cell_type": "code",
   "execution_count": 113,
   "metadata": {},
   "outputs": [
    {
     "name": "stdout",
     "output_type": "stream",
     "text": [
      "11\n"
     ]
    }
   ],
   "source": [
    "d= p/(ndrones+1)\n",
    "fx=[] #feature points\n",
    "fy=[]\n",
    "fpx=x[0]\n",
    "fpy=y[0]\n",
    "\n",
    "fx.append(fpx)\n",
    "fy.append(fpy)\n",
    "for i in range(1, len(x)):\n",
    "    cx=x[i]\n",
    "    cy=y[i]\n",
    "    \n",
    "    px=x[i-1]\n",
    "    py=y[i-1]\n",
    "    \n",
    "    cd=dist(cx,cy,fpx,fpy)\n",
    "    \n",
    "    if(abs(cd-d)<=0.1):\n",
    "        \n",
    "        fx.append(cx)\n",
    "        fy.append(cy)\n",
    "        fpx=cx\n",
    "        fpy=cy\n",
    "        \n",
    "        \n",
    "    elif(cd>d and cd < 1.5*d):\n",
    "        \n",
    "        theta=slope(cx,cy,px,py)\n",
    "        r=cd-d\n",
    "        \n",
    "        cx= cx-r*np.cos(theta)\n",
    "        cy= cy-r*np.sin(theta)\n",
    "        fx.append(cx)\n",
    "        fy.append(cy)\n",
    "        fpx=cx\n",
    "        fpy=cy\n",
    "\n",
    "    if(len(fx)==ndrones-1):\n",
    "        break\n",
    "        \n",
    "        \n",
    "\n",
    "fx.append( x[len(x)-1] )\n",
    "fy.append( y[len(y)-1] )\n",
    "print(len(fx))\n",
    "    \n",
    "\n",
    "\n"
   ]
  },
  {
   "cell_type": "code",
   "execution_count": 114,
   "metadata": {},
   "outputs": [],
   "source": [
    "def find_centre(x, y):\n",
    "    cp = 0\n",
    "    \n",
    "    for i in range(1, len(x)):\n",
    "        \n",
    "        cp += dist( x[i], y[i], x[i-1], y[i-1] )\n",
    "        if cp > p/2:\n",
    "            return i\n",
    "            "
   ]
  },
  {
   "cell_type": "code",
   "execution_count": 115,
   "metadata": {},
   "outputs": [],
   "source": [
    "def calcmindis(x,y,fx,fy):\n",
    "    currmindis=1e9\n",
    "    for i in range(0,len(fx)):\n",
    "        dis=dist(x,y,fx[i],fy[i])\n",
    "        if(dis <=currmindis):\n",
    "            currmindis=dis\n",
    "    return currmindis\n",
    "            \n",
    "    \n",
    "    \n",
    "    "
   ]
  },
  {
   "cell_type": "code",
   "execution_count": 116,
   "metadata": {},
   "outputs": [
    {
     "name": "stdout",
     "output_type": "stream",
     "text": [
      "726 204\n"
     ]
    }
   ],
   "source": [
    "idx = find_centre(x, y)\n",
    "xc = x[idx]\n",
    "yc = y[idx]\n",
    "print(xc,yc)"
   ]
  },
  {
   "cell_type": "code",
   "execution_count": 117,
   "metadata": {},
   "outputs": [],
   "source": [
    "import copy"
   ]
  },
  {
   "cell_type": "code",
   "execution_count": 118,
   "metadata": {},
   "outputs": [],
   "source": [
    "d=(p/ndrones)*0.5\n",
    "\n",
    "fpx= xc\n",
    "fpy= yc\n",
    "\n",
    "rem = ndrones - len(fx)\n",
    "pl = rem//2\n",
    "pr = rem-pl\n",
    "fxold=copy.deepcopy(fx)\n",
    "fyold=copy.deepcopy(fy)\n",
    "tol= 10\n",
    "\n",
    "for i in range(1,idx):\n",
    "    cx=x[idx-i]\n",
    "    cy=y[idx-1]\n",
    "    \n",
    "    px=x[idx-i-1]\n",
    "    py=y[idx-i-1]\n",
    "    \n",
    "    cd=dist(cx,cy,fpx,fpy)\n",
    "    r=cd-d\n",
    "    \n",
    "    if(abs(r)<=0.1):\n",
    "        currmindis=calcmindis(cx,cy,fx,fy)\n",
    "        \n",
    "        if(currmindis>tol):\n",
    "            print(currmindis,tol,'appending')\n",
    "            fx.append(cx)\n",
    "            fy.append(cy)\n",
    "            fpx=cx\n",
    "            fpy=cy\n",
    "            pl-=1\n",
    "        else:\n",
    "            continue\n",
    "        \n",
    "    elif(cd>d and cd<1.5*d):\n",
    "        \n",
    "        theta=slope(cx,cy,px,py)\n",
    "        r=cd-d\n",
    "        cx= cx+r*np.cos(theta)\n",
    "        cy= cy+r*np.sin(theta)\n",
    "        currmindis=calcmindis(cx,cy,fx,fy)\n",
    "        \n",
    "        if(currmindis>tol):\n",
    "            print(currmindis,tol,'appending')\n",
    "            fx.append(cx)\n",
    "            fy.append(cy)\n",
    "            fpx=cx\n",
    "            fpy=cy\n",
    "            pl-=1\n",
    "        else:\n",
    "            continue\n",
    "      \n",
    "            \n",
    "    if pl==0:\n",
    "        break\n",
    "        \n",
    "\n",
    "        \n",
    "        \n",
    "\n",
    "        \n",
    "        \n",
    "    "
   ]
  },
  {
   "cell_type": "code",
   "execution_count": 119,
   "metadata": {},
   "outputs": [],
   "source": [
    "fpx= xc\n",
    "fpy= yc\n",
    "\n",
    "\n",
    "for i in range(idx+1,len(x)):\n",
    "    cx=x[i]\n",
    "    cy=y[i]\n",
    "    \n",
    "    px=x[i-1]\n",
    "    py=y[i-1]\n",
    "    \n",
    "    cd=dist(cx,cy,fpx,fpy)\n",
    "    r=cd-d\n",
    "    \n",
    "    if(abs(r)<=0.1):\n",
    "        currmindis=calcmindis(cx,cy,fx,fy)\n",
    "        \n",
    "        if(currmindis>tol):\n",
    "            print(currmindis,tol,'appending')\n",
    "            fx.append(cx)\n",
    "            fy.append(cy)\n",
    "            fpx=cx\n",
    "            fpy=cy\n",
    "            pr-=1\n",
    "        else:\n",
    "            continue\n",
    "        \n",
    "        \n",
    "    elif(cd>d and cd <1.5*d):\n",
    "        \n",
    "        theta=slope(cx,cy,px,py)\n",
    "        \n",
    "        cx= cx-r*np.cos(theta)\n",
    "        cy= cy-r*np.sin(theta)\n",
    "        currmindis=calcmindis(cx,cy,fx,fy)\n",
    "        \n",
    "        if(currmindis>tol):\n",
    "            print(currmindis,tol,'appending')\n",
    "            fx.append(cx)\n",
    "            fy.append(cy)\n",
    "            fpx=cx\n",
    "            fpy=cy\n",
    "            pr-=1\n",
    "        else:\n",
    "            continue\n",
    "        \n",
    "            \n",
    "    if pr==0:\n",
    "        break"
   ]
  },
  {
   "cell_type": "code",
   "execution_count": 120,
   "metadata": {},
   "outputs": [
    {
     "data": {
      "text/plain": [
       "11"
      ]
     },
     "execution_count": 120,
     "metadata": {},
     "output_type": "execute_result"
    }
   ],
   "source": [
    "len(fx)"
   ]
  },
  {
   "cell_type": "code",
   "execution_count": 121,
   "metadata": {},
   "outputs": [
    {
     "data": {
      "text/plain": [
       "<matplotlib.collections.PathCollection at 0x1fece072680>"
      ]
     },
     "execution_count": 121,
     "metadata": {},
     "output_type": "execute_result"
    },
    {
     "data": {
      "image/png": "[encoded data removed]",
      "text/plain": [
       "<Figure size 432x288 with 1 Axes>"
      ]
     },
     "metadata": {
      "needs_background": "light"
     },
     "output_type": "display_data"
    }
   ],
   "source": [
    "plt.scatter(fx, fy)"
   ]
  },
  {
   "cell_type": "code",
   "execution_count": 122,
   "metadata": {},
   "outputs": [
    {
     "data": {
      "text/plain": [
       "<matplotlib.collections.PathCollection at 0x1fece11c280>"
      ]
     },
     "execution_count": 122,
     "metadata": {},
     "output_type": "execute_result"
    },
    {
     "data": {
      "image/png": "[encoded data removed]",
      "text/plain": [
       "<Figure size 432x288 with 1 Axes>"
      ]
     },
     "metadata": {
      "needs_background": "light"
     },
     "output_type": "display_data"
    }
   ],
   "source": [
    "plt.scatter(fxold, fyold)"
   ]
  },
  {
   "cell_type": "code",
   "execution_count": 123,
   "metadata": {},
   "outputs": [
    {
     "data": {
      "text/plain": [
       "<matplotlib.collections.PathCollection at 0x1fece1845b0>"
      ]
     },
     "execution_count": 123,
     "metadata": {},
     "output_type": "execute_result"
    },
    {
     "data": {
      "image/png": "[encoded data removed]",
      "text/plain": [
       "<Figure size 432x288 with 1 Axes>"
      ]
     },
     "metadata": {
      "needs_background": "light"
     },
     "output_type": "display_data"
    }
   ],
   "source": [
    "plt.scatter(x, y)"
   ]
  },
  {
   "cell_type": "code",
   "execution_count": null,
   "metadata": {},
   "outputs": [],
   "source": []
  },
  {
   "cell_type": "code",
   "execution_count": null,
   "metadata": {},
   "outputs": [],
   "source": []
  },
  {
   "cell_type": "code",
   "execution_count": null,
   "metadata": {},
   "outputs": [],
   "source": []
  }
 ],
 "metadata": {
  "kernelspec": {
   "display_name": "Python 3 (ipykernel)",
   "language": "python",
   "name": "python3"
  },
  "language_info": {
   "codemirror_mode": {
    "name": "ipython",
    "version": 3
   },
   "file_extension": ".py",
   "mimetype": "text/x-python",
   "name": "python",
   "nbconvert_exporter": "python",
   "pygments_lexer": "ipython3",
   "version": "3.10.4"
  }
 },
 "nbformat": 4,
 "nbformat_minor": 4
}
